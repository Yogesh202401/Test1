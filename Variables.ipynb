{
 "cells": [
  {
   "cell_type": "markdown",
   "id": "90b12d6a",
   "metadata": {},
   "source": [
    "# Python Variables"
   ]
  },
  {
   "cell_type": "raw",
   "id": "925cb39f",
   "metadata": {},
   "source": [
    "A variable is a reserved memory area (memory address) to store value. For example, we want to store an employee’s salary. In such a case, we can create a variable and store salary using it. Using that variable name, you can read or modify the salary amount.\n",
    "\n",
    "In other words, a variable is a value that varies according to the condition or input pass to the program. Everything in Python is treated as an object so every variable is nothing but an object in Python.\n",
    "\n",
    "A variable can be either mutable or immutable. If the variable’s value can change, the object is called mutable, while if the value cannot change, the object is called immutable. We will learn the difference between mutable and immutable types in the later section of this article."
   ]
  },
  {
   "cell_type": "markdown",
   "id": "ef04ed92",
   "metadata": {},
   "source": [
    "# Creating a variable\n",
    "\n",
    "Python programming language is dynamically typed, so there is no need to declare a variable before using it or declare the data type of variable like in other programming languages. The declaration happens automatically when we assign a value to the variable."
   ]
  },
  {
   "cell_type": "markdown",
   "id": "a6e6560a",
   "metadata": {},
   "source": [
    "## Creating a variable and assigning a value\n",
    "\n",
    "We can assign a value to the variable at that time variable is created. We can use the assignment operator = to assign a value to a variable.\n",
    "\n",
    "The operand, which is on the left side of the assignment operator, is a variable name. And the operand, which is the right side of the assignment operator, is the variable’s value.\n",
    "\n",
    "<code>variable_name = variable_value</code>"
   ]
  },
  {
   "cell_type": "code",
   "execution_count": null,
   "id": "f37d5c67",
   "metadata": {},
   "outputs": [],
   "source": [
    "name = \"Yogesh\"\n",
    "age = 24"
   ]
  },
  {
   "cell_type": "markdown",
   "id": "ae82fe6e",
   "metadata": {},
   "source": [
    "# Changing the value of a variable\n",
    "\n",
    "Many programming languages are statically typed languages where the variable is initially declared with a specific type, and during its lifetime, it must always have that type.\n",
    "\n",
    "But in Python, variables are dynamically typed and not subject to the data type restriction. A variable may be assigned to a value of one type, and then later, we can also re-assigned a value of a different type. Let’s see the example."
   ]
  },
  {
   "cell_type": "code",
   "execution_count": 2,
   "id": "6ac36bc5",
   "metadata": {},
   "outputs": [
    {
     "name": "stdout",
     "output_type": "stream",
     "text": [
      "10\n",
      "<class 'int'>\n"
     ]
    }
   ],
   "source": [
    "var = 10\n",
    "print(var)\n",
    "print(type(var))"
   ]
  },
  {
   "cell_type": "code",
   "execution_count": 3,
   "id": "d34fcec6",
   "metadata": {},
   "outputs": [
    {
     "name": "stdout",
     "output_type": "stream",
     "text": [
      "55\n"
     ]
    }
   ],
   "source": [
    "# assign different integer value to var\n",
    "var = 55\n",
    "print(var)"
   ]
  },
  {
   "cell_type": "code",
   "execution_count": 4,
   "id": "ac7ead6b",
   "metadata": {},
   "outputs": [
    {
     "name": "stdout",
     "output_type": "stream",
     "text": [
      "<class 'str'>\n"
     ]
    }
   ],
   "source": [
    "# change var to string\n",
    "var = \"I am a string\"\n",
    "print(var)\n",
    "print(type(var))"
   ]
  },
  {
   "cell_type": "code",
   "execution_count": 6,
   "id": "ca07d4da",
   "metadata": {},
   "outputs": [
    {
     "name": "stdout",
     "output_type": "stream",
     "text": [
      "24.32\n",
      "<class 'float'>\n"
     ]
    }
   ],
   "source": [
    "# change var to float\n",
    "var = 24.32\n",
    "print(var)\n",
    "print(type(var))"
   ]
  },
  {
   "cell_type": "markdown",
   "id": "959acdaf",
   "metadata": {},
   "source": [
    "# Create Number, String, List variables"
   ]
  },
  {
   "cell_type": "markdown",
   "id": "ec6ee3d5",
   "metadata": {},
   "source": [
    "## Number\n",
    "\n",
    "A number is a data type to store numeric values. The object for the number will be created when we assign a value to the variable. In Python3, we can use the following three data types to store numeric values.\n",
    "\n",
    "### Integer variable\n",
    "\n",
    "The int is a data type that returns integer type values (signed integers); they are also called ints or integers. The integer value can be positive or negative without a decimal point."
   ]
  },
  {
   "cell_type": "code",
   "execution_count": 7,
   "id": "9da821a8",
   "metadata": {},
   "outputs": [
    {
     "name": "stdout",
     "output_type": "stream",
     "text": [
      "28\n",
      "<class 'int'>\n"
     ]
    }
   ],
   "source": [
    "# create integer variable\n",
    "age = 28\n",
    "print(age) \n",
    "print(type(age))  "
   ]
  },
  {
   "cell_type": "markdown",
   "id": "f7b1afa6",
   "metadata": {},
   "source": [
    "###  Float variable\n",
    "\n",
    "Floats are the values with the decimal point dividing the integer and the fractional parts of the number.  Use float data type to store decimal values."
   ]
  },
  {
   "cell_type": "code",
   "execution_count": 8,
   "id": "d03b130e",
   "metadata": {},
   "outputs": [
    {
     "name": "stdout",
     "output_type": "stream",
     "text": [
      "30200.22\n",
      "<class 'float'>\n"
     ]
    }
   ],
   "source": [
    "salary = 30200.22\n",
    "print(salary)\n",
    "print(type(salary))"
   ]
  },
  {
   "cell_type": "markdown",
   "id": "536ce6f9",
   "metadata": {},
   "source": [
    "### Complex type\n",
    "\n",
    "The complex is the numbers that come with the real and imaginary part. A complex number is in the form of a+bj, where a and b contain integers or floating-point values."
   ]
  },
  {
   "cell_type": "code",
   "execution_count": 10,
   "id": "d45c66b9",
   "metadata": {},
   "outputs": [
    {
     "name": "stdout",
     "output_type": "stream",
     "text": [
      "(3+5j)\n",
      "<class 'complex'>\n"
     ]
    }
   ],
   "source": [
    "a = 3 + 5j\n",
    "print(a)\n",
    "print(type(a))"
   ]
  },
  {
   "cell_type": "markdown",
   "id": "3ec429e8",
   "metadata": {},
   "source": [
    "# String variable\n",
    "\n",
    "a string is a set of characters represented in quotation marks. Python allows us to define a string in either pair of single or double quotation marks. For example, to store a person’s name we can use a string type.\n",
    "\n",
    "To retrieve a piece of string from a given string, we can use to slice operator [] or [:]. Slicing provides us the subset of a string with an index starting from index 0 to index end-1.\n",
    "\n",
    "To concatenate the string, we can use the addition(+) operator."
   ]
  },
  {
   "cell_type": "code",
   "execution_count": 16,
   "id": "82a1ad26",
   "metadata": {},
   "outputs": [
    {
     "name": "stdout",
     "output_type": "stream",
     "text": [
      "ETLhive\n",
      "E\n",
      "Lhi\n",
      "7\n",
      "ETLhiveTEST\n"
     ]
    }
   ],
   "source": [
    "# create a variable of type string\n",
    "str = 'ETLhive'\n",
    "# prints complete string\n",
    "print(str)  \n",
    "\n",
    "# prints first character of the string\n",
    "print(str[0]) \n",
    "\n",
    "# prints characters starting from 2nd to 5th\n",
    "print(str[2:5])  \n",
    "\n",
    "# length of string\n",
    "print(len(str)) \n",
    "\n",
    "# concatenate string\n",
    "print(str + \"TEST\")  "
   ]
  },
  {
   "cell_type": "markdown",
   "id": "934b3518",
   "metadata": {},
   "source": [
    "# List type variable\n",
    "\n",
    "If we want to represent a group of elements (or value) as a single entity, we should go for the list variable type. For example, we can use them to store student names. In the list, the insertion order of elements is preserved. That means, in which order elements are inserted in the list, the order will be intact.\n",
    "\n",
    "The list can be accessed in two ways, either positive or negative index.  The list has the following characteristics:\n",
    "\n",
    "1.In the list insertion order of elements is preserved.\n",
    "2.Heterogeneous (all types of data types int, float, string) elements are allowed.\n",
    "3.Duplicates elements are permitted.\n",
    "4.The list is mutable(can change).\n",
    "5.Growable in nature means based on our requirement, we can increase or decrease the list’s size.\n",
    "7.List elements should be enclosed within square brackets []."
   ]
  },
  {
   "cell_type": "code",
   "execution_count": null,
   "id": "4796fe49",
   "metadata": {},
   "outputs": [],
   "source": [
    "# create list\n",
    "my_list = ['Jessa', 10, 20, 'Kelly', 50, 10.5]\n",
    "# print entire list\n",
    "print(my_list)  # ['Jessa', 10, 20, 'Kelly', 50, 10.5]\n",
    "\n",
    "# Accessing 1st element of a list\n",
    "print(my_list[0])  # 'Jessa'\n",
    "\n",
    "# Accessing  last element of a\n",
    "print(my_list[-1])  # 10.5\n",
    "\n",
    "# access chunks of list data\n",
    "print(my_list[1:3])  # [10, 20]\n",
    "\n",
    "# Modifying first element of a list\n",
    "my_list[0] = 'Emma'\n",
    "print(my_list[0])  # 'Emma'\n",
    "\n",
    "# add one more elements to list\n",
    "my_list.append(100)\n",
    "print(my_list)  # ['Emma', 10, 20, 'Kelly', 50, 10.5, 100]"
   ]
  },
  {
   "cell_type": "markdown",
   "id": "11a74ff8",
   "metadata": {},
   "source": [
    "# Get the data type of variable\n",
    "\n",
    "No matter what is stored in a variable (object), a variable can be any type like int, float, str, list, tuple, dict, etc. There is a built-in function called type() to get the data type of any variable.\n",
    "\n",
    "Syntax of type() :\n",
    "\n",
    "type(<variable_name>)"
   ]
  },
  {
   "cell_type": "code",
   "execution_count": null,
   "id": "f76114db",
   "metadata": {},
   "outputs": [],
   "source": [
    "a = 100\n",
    "print(type(a))  # class 'int'\n",
    "\n",
    "b = 100.568\n",
    "print(type(b))  # class 'float'\n",
    "\n",
    "str1 = \"PYnative\"\n",
    "print(type(str1))  # class 'str'\n",
    "\n",
    "my_list = [10, 20, 20.5, 100]\n",
    "print(type(my_list))  # class 'list'\n",
    "\n",
    "my_set = {'Emma', 'Jessa', 'Kelly'}\n",
    "print(type(my_set))  # class 'set'\n",
    "\n",
    "my_tuple = (5, 10, 15, 20, 25)\n",
    "print(type(my_tuple))  # class 'tuple'\n",
    "\n",
    "my_dict = {1: 'William', 2: 'John'}\n",
    "print(type(my_dict))  # class 'dict'"
   ]
  },
  {
   "cell_type": "raw",
   "id": "8d449958",
   "metadata": {},
   "source": [
    "NOTE - If we want to get the name of the datatype only as output, then we can use the__name__ attribute along with the type() function. See the following example where __name__ attribute is used."
   ]
  },
  {
   "cell_type": "code",
   "execution_count": 22,
   "id": "d33f3be2",
   "metadata": {},
   "outputs": [
    {
     "name": "stdout",
     "output_type": "stream",
     "text": [
      "list\n"
     ]
    }
   ],
   "source": [
    "list1 = [10,20,30,44]\n",
    "print(type(list1).__name__)"
   ]
  },
  {
   "cell_type": "markdown",
   "id": "d397c125",
   "metadata": {},
   "source": [
    "# Delete a variable\n",
    "\n",
    "del keyword to delete the variable. Once we delete the variable, it will not be longer accessible and eligible for the garbage collector."
   ]
  },
  {
   "cell_type": "code",
   "execution_count": 23,
   "id": "02e31784",
   "metadata": {},
   "outputs": [
    {
     "name": "stdout",
     "output_type": "stream",
     "text": [
      "100\n"
     ]
    }
   ],
   "source": [
    "var1 = 100\n",
    "print(var1) "
   ]
  },
  {
   "cell_type": "code",
   "execution_count": 24,
   "id": "d5a31ba0",
   "metadata": {},
   "outputs": [
    {
     "ename": "NameError",
     "evalue": "name 'var1' is not defined",
     "output_type": "error",
     "traceback": [
      "\u001b[1;31m---------------------------------------------------------------------------\u001b[0m",
      "\u001b[1;31mNameError\u001b[0m                                 Traceback (most recent call last)",
      "Cell \u001b[1;32mIn[24], line 2\u001b[0m\n\u001b[0;32m      1\u001b[0m \u001b[38;5;28;01mdel\u001b[39;00m var1\n\u001b[1;32m----> 2\u001b[0m \u001b[38;5;28mprint\u001b[39m(var1)\n",
      "\u001b[1;31mNameError\u001b[0m: name 'var1' is not defined"
     ]
    }
   ],
   "source": [
    "del var1\n",
    "print(var1)"
   ]
  },
  {
   "cell_type": "markdown",
   "id": "89b5e095",
   "metadata": {},
   "source": [
    "# Variable’s case-sensitive\n",
    "\n",
    "Python is a case-sensitive language. If we define a variable with names a = 100 and A =200 then, Python differentiates between a and A. These variables are treated as two different variables (or objects).\n"
   ]
  },
  {
   "cell_type": "code",
   "execution_count": 25,
   "id": "768b1bd2",
   "metadata": {},
   "outputs": [
    {
     "name": "stdout",
     "output_type": "stream",
     "text": [
      "100\n",
      "200\n",
      "300\n"
     ]
    }
   ],
   "source": [
    "a = 100\n",
    "A = 200\n",
    "\n",
    "# value of a\n",
    "print(a)  \n",
    "# Value of A\n",
    "print(A)  \n",
    "\n",
    "a = a + A\n",
    "print(a)  "
   ]
  },
  {
   "cell_type": "markdown",
   "id": "77d73425",
   "metadata": {},
   "source": [
    "# Constant\n",
    "\n",
    "Constant is a variable or value that does not change, which means it remains the same and cannot be modified. But in the case of Python, the constant concept is not applicable. By convention, we can use only uppercase characters to define the constant variable if we don’t want to change it.\n",
    "\n",
    "Example \n",
    "\n",
    "MAX_VALUE = 500\n",
    "\n",
    "It is just convention, but we can change the value of MAX_VALUE variable."
   ]
  },
  {
   "cell_type": "markdown",
   "id": "d94d2715",
   "metadata": {},
   "source": [
    "# Multiple assignments\n",
    "\n",
    "In Python, there is no restriction to declare a variable before using it in the program. Python allows us to create a variable as and when required.\n",
    "\n",
    "We can do multiple assignments in two ways, either by assigning a single value to multiple variables or assigning multiple values to multiple variables."
   ]
  },
  {
   "cell_type": "markdown",
   "id": "0999f56f",
   "metadata": {},
   "source": [
    "### Assigning a single value to multiple variables\n",
    "\n",
    "we can assign a single value to multiple variables simultaneously using the assignment operator =."
   ]
  },
  {
   "cell_type": "code",
   "execution_count": null,
   "id": "e131cf72",
   "metadata": {},
   "outputs": [],
   "source": [
    "a = b = c = 10\n",
    "print(a) \n",
    "print(b) \n",
    "print(c)  "
   ]
  },
  {
   "cell_type": "markdown",
   "id": "420145ef",
   "metadata": {},
   "source": [
    "### Assigning multiple values to multiple variables"
   ]
  },
  {
   "cell_type": "code",
   "execution_count": 33,
   "id": "6a2c2705",
   "metadata": {},
   "outputs": [
    {
     "name": "stdout",
     "output_type": "stream",
     "text": [
      "Yogesh Patil 24\n",
      "24 Yogesh Patil\n"
     ]
    }
   ],
   "source": [
    "name,sarname,age=\"Yogesh\",\"Patil\",24\n",
    "print(name,sarname,age)\n",
    "\n",
    "print(age,name,sarname)"
   ]
  },
  {
   "cell_type": "markdown",
   "id": "33c0bdeb",
   "metadata": {},
   "source": [
    "# Variable scope\n",
    "\n",
    "Scope: The scope of a variable refers to the places where we can access a variable.\n",
    "\n",
    "Depending on the scope, the variable can categorize into two types local variable and the global variable."
   ]
  },
  {
   "cell_type": "markdown",
   "id": "cac99847",
   "metadata": {},
   "source": [
    "## Local variable\n",
    "\n",
    "A local variable is a variable that is accessible inside a block of code only where it is declared. That means, If we declare a variable inside a method, the scope of the local variable is limited to the that function or method only. So it is not accessible from outside of the method. If we try to access it, we will get an error."
   ]
  },
  {
   "cell_type": "code",
   "execution_count": 40,
   "id": "ff13e3e9",
   "metadata": {},
   "outputs": [
    {
     "name": "stdout",
     "output_type": "stream",
     "text": [
      "test-series price is: 500\n"
     ]
    },
    {
     "ename": "NameError",
     "evalue": "name 'price' is not defined",
     "output_type": "error",
     "traceback": [
      "\u001b[1;31m---------------------------------------------------------------------------\u001b[0m",
      "\u001b[1;31mNameError\u001b[0m                                 Traceback (most recent call last)",
      "Cell \u001b[1;32mIn[40], line 11\u001b[0m\n\u001b[0;32m      9\u001b[0m \u001b[38;5;66;03m# call functions\u001b[39;00m\n\u001b[0;32m     10\u001b[0m test1()\n\u001b[1;32m---> 11\u001b[0m test2()\n",
      "Cell \u001b[1;32mIn[40], line 7\u001b[0m, in \u001b[0;36mtest2\u001b[1;34m()\u001b[0m\n\u001b[0;32m      5\u001b[0m \u001b[38;5;28;01mdef\u001b[39;00m \u001b[38;5;21mtest2\u001b[39m():\n\u001b[0;32m      6\u001b[0m     \u001b[38;5;66;03m# price not define here\u001b[39;00m\n\u001b[1;32m----> 7\u001b[0m     \u001b[38;5;28mprint\u001b[39m(\u001b[38;5;124m\"\u001b[39m\u001b[38;5;124mtest-series price is:\u001b[39m\u001b[38;5;124m\"\u001b[39m,price)\n",
      "\u001b[1;31mNameError\u001b[0m: name 'price' is not defined"
     ]
    }
   ],
   "source": [
    "def test1():\n",
    "    price = 500\n",
    "    print(\"test-series price is:\",price)\n",
    "    \n",
    "def test2():\n",
    "    # price not define here\n",
    "    print(\"test-series price is:\",price)\n",
    "    \n",
    "# call functions\n",
    "test1()\n",
    "test2()"
   ]
  },
  {
   "cell_type": "raw",
   "id": "aac3a170",
   "metadata": {},
   "source": [
    "Note - In the above example, we created a function with the name test1. Inside it, we created a local variable price. Similarly, we created another function with the name test2 and tried to access price, but we got an error \"price is not defined\" because its scope is limited to function test1(). This error occurs because we cannot access the local variable from outside the code block."
   ]
  },
  {
   "cell_type": "markdown",
   "id": "76fc6b96",
   "metadata": {},
   "source": [
    "## Global variable\n",
    "\n",
    " A Global variable is a variable that is defined outside of the method (block of code). That is accessible anywhere in the code file."
   ]
  },
  {
   "cell_type": "code",
   "execution_count": 41,
   "id": "7964c892",
   "metadata": {},
   "outputs": [
    {
     "name": "stdout",
     "output_type": "stream",
     "text": [
      "Price in 1st functions: 500\n",
      "Price in 1st functions: 500\n"
     ]
    }
   ],
   "source": [
    "price = 500  # global variable\n",
    "\n",
    "def test1():\n",
    "    print(\"Price in 1st functions:\",price)\n",
    "    \n",
    "def test2():\n",
    "        print(\"Price in 1st functions:\",price)\n",
    "\n",
    "# call functions\n",
    "test1()\n",
    "test2()"
   ]
  },
  {
   "cell_type": "raw",
   "id": "e8caed7a",
   "metadata": {},
   "source": [
    "Note - In the above example, we created a global variable price and tried to access it in test1 and test2. In return, we got the same value because the global variable is accessible in the entire file."
   ]
  },
  {
   "cell_type": "markdown",
   "id": "77b75de4",
   "metadata": {},
   "source": [
    "# Object/Variable identity \n",
    "\n",
    "In Python, whenever we create an object, a number is given to it and uniquely identifies it. This number is nothing but a memory address of a variable’s value. Once the object is created, the identity of that object never changes.\n",
    "\n",
    "No two objects will have the same identifier. The Object is for eligible garbage collection when deleted. Python has a built-in function id() to get the memory address of a variable.\n",
    "\n",
    "For example, consider a library with many books (memory addresses) and many students (objects). At the beginning(when we start The Python program), all books are available. When a new student comes to the library (a new object created), the librarian gives him a book. Every book has a unique number (identity), and that id number tells us which book is delivered to the student (object)\n"
   ]
  },
  {
   "cell_type": "code",
   "execution_count": 42,
   "id": "5624d376",
   "metadata": {},
   "outputs": [
    {
     "name": "stdout",
     "output_type": "stream",
     "text": [
      "2177688437328\n",
      "2177688437328\n"
     ]
    }
   ],
   "source": [
    "n = 300\n",
    "m = n\n",
    "print(id(n)) # same memory address\n",
    "print(id(m)) # same memory address "
   ]
  },
  {
   "cell_type": "raw",
   "id": "d7c46883",
   "metadata": {},
   "source": [
    "It returns the same address location because both variables share the same value. But if we assign m to some different value, it points to a different object with a different identity."
   ]
  },
  {
   "cell_type": "code",
   "execution_count": null,
   "id": "8d8f9402",
   "metadata": {},
   "outputs": [],
   "source": [
    "m = 500\n",
    "n = 400\n",
    "print(\"Memory address of m:\", id(m))  # 1686681059984\n",
    "print(\"Memory address of n:\", id(n))  # 1686681059824"
   ]
  },
  {
   "cell_type": "raw",
   "id": "104916ee",
   "metadata": {},
   "source": [
    "For m = 500, Python created an integer object with the value 500 and set m as a reference to it. Similarly, n is assigned to an integer object with the value 400 and sets n as a reference to it. Both variables have different identities."
   ]
  },
  {
   "cell_type": "markdown",
   "id": "8cf25a52",
   "metadata": {},
   "source": [
    "# Object Reference\n",
    "\n",
    "In Python, when we assign a value to a variable, we create an object and reference it.\n",
    "\n",
    "For example, a=10, here, an object with the value  10 is created in memory, and reference a now points to the memory address where the object is stored.\n",
    "\n",
    "Suppose we created a=10, b=10, and  c=10, the value of the three variables is the same. Instead of creating three objects, Python creates only one object as 10 with references such as a,b,c.\n",
    "\n",
    "We can access the memory addresses of these variables using the id() method. a, b refers to the same address in memory, and c, d, e refers to the same address."
   ]
  },
  {
   "cell_type": "code",
   "execution_count": 59,
   "id": "65eb2ef8",
   "metadata": {},
   "outputs": [
    {
     "name": "stdout",
     "output_type": "stream",
     "text": [
      "140709279536200\n",
      "140709279536200\n",
      "140709279536520\n",
      "140709279536520\n",
      "140709279536520\n"
     ]
    }
   ],
   "source": [
    "a = 10\n",
    "b = 10\n",
    "print(id(a))\n",
    "print(id(b))\n",
    "\n",
    "c= 20\n",
    "d = 20\n",
    "e = 20\n",
    "print(id(c))\n",
    "print(id(d))\n",
    "print(id(e))"
   ]
  },
  {
   "cell_type": "raw",
   "id": "1e7d2d7c",
   "metadata": {},
   "source": [
    "Here, an object in memory initialized with the value 10 and reference added to it, the reference count increments by ‘1’.\n",
    "\n",
    "When Python executes the next statement that is b=10, since it is the same value 10, a new object will not be created because the same object in memory with value 10 available, so it has created another reference, b. Now, the reference count for value 10 is ‘2’.\n",
    "\n",
    "Again for c=20, a new object is created with reference ‘c’ since it has a unique value (20). Similarly, for d, and e new objects will not be created because the object ’20’ already available. Now, only the reference count will be incremented.\n",
    "\n",
    "We can check the reference counts of every object by using the getrefcount function of a  sys module. This function takes the object as an input and returns the number of references.\n",
    "\n",
    "We can pass variable, name, value, function, class as an input to getrefcount() and in return, it will give a reference count for a given object."
   ]
  },
  {
   "cell_type": "code",
   "execution_count": 63,
   "id": "aa184b73",
   "metadata": {},
   "outputs": [
    {
     "name": "stdout",
     "output_type": "stream",
     "text": [
      "1000002501\n",
      "1000003473\n"
     ]
    }
   ],
   "source": [
    "import sys\n",
    "print(sys.getrefcount(a))\n",
    "print(sys.getrefcount(c))"
   ]
  },
  {
   "cell_type": "markdown",
   "id": "c1e75e78",
   "metadata": {},
   "source": [
    "# Unpack a collection into a variable\n",
    "\n",
    "Packing\n",
    "\n",
    "1. we can create a tuple (or list) by packing a group of variables.\n",
    "\n",
    "2. Packing can be used when we want to collect multiple values in a single variable. Generally, this operation is referred to as tuple packing."
   ]
  },
  {
   "cell_type": "code",
   "execution_count": 66,
   "id": "74ee3194",
   "metadata": {},
   "outputs": [
    {
     "name": "stdout",
     "output_type": "stream",
     "text": [
      "(10, 20, 20, 40)\n"
     ]
    }
   ],
   "source": [
    "a = 10\n",
    "b = 20\n",
    "c = 20\n",
    "d = 40\n",
    "tuple1 = a, b, c, d # Here a, b, c, d are packed in the tuple tuple1.\n",
    "\n",
    "print(tuple1) "
   ]
  },
  {
   "cell_type": "raw",
   "id": "05f93f07",
   "metadata": {},
   "source": [
    "Tuple unpacking \n",
    "\n",
    "The reverse operation of tuple packing. We can unpack tuple and assign tuple values to different variables."
   ]
  },
  {
   "cell_type": "code",
   "execution_count": 69,
   "id": "cb359e38",
   "metadata": {},
   "outputs": [
    {
     "name": "stdout",
     "output_type": "stream",
     "text": [
      "10 20 30 40\n"
     ]
    }
   ],
   "source": [
    "tuple1 =(10,20,30,40)\n",
    "a,b,c,d = tuple1\n",
    "print(a,b,c,d)"
   ]
  },
  {
   "cell_type": "raw",
   "id": "cd27c0c5",
   "metadata": {},
   "source": [
    "Note: When we are performing unpacking, the number of variables and the number of values should be the same. That is, the number of variables on the left side of the tuple must exactly match a number of values on the right side of the tuple. Otherwise, we will get a ValueError."
   ]
  },
  {
   "cell_type": "code",
   "execution_count": 71,
   "id": "05721e90",
   "metadata": {},
   "outputs": [
    {
     "ename": "ValueError",
     "evalue": "too many values to unpack (expected 2)",
     "output_type": "error",
     "traceback": [
      "\u001b[1;31m---------------------------------------------------------------------------\u001b[0m",
      "\u001b[1;31mValueError\u001b[0m                                Traceback (most recent call last)",
      "Cell \u001b[1;32mIn[71], line 1\u001b[0m\n\u001b[1;32m----> 1\u001b[0m a,b \u001b[38;5;241m=\u001b[39m \u001b[38;5;241m10\u001b[39m,\u001b[38;5;241m20\u001b[39m,\u001b[38;5;241m30\u001b[39m\n\u001b[0;32m      2\u001b[0m \u001b[38;5;28mprint\u001b[39m(a,b)\n",
      "\u001b[1;31mValueError\u001b[0m: too many values to unpack (expected 2)"
     ]
    }
   ],
   "source": [
    "a,b = 10,20,30\n",
    "print(a,b)"
   ]
  },
  {
   "cell_type": "code",
   "execution_count": null,
   "id": "0efe3eda",
   "metadata": {},
   "outputs": [],
   "source": []
  }
 ],
 "metadata": {
  "kernelspec": {
   "display_name": "Python 3 (ipykernel)",
   "language": "python",
   "name": "python3"
  },
  "language_info": {
   "codemirror_mode": {
    "name": "ipython",
    "version": 3
   },
   "file_extension": ".py",
   "mimetype": "text/x-python",
   "name": "python",
   "nbconvert_exporter": "python",
   "pygments_lexer": "ipython3",
   "version": "3.11.5"
  }
 },
 "nbformat": 4,
 "nbformat_minor": 5
}
