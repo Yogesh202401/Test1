{
 "cells": [
  {
   "cell_type": "markdown",
   "id": "16ce73a6",
   "metadata": {},
   "source": [
    "# Operators\n",
    "\n",
    "Operators are special symbols that perform specific operations on one or more operands (values) and then return a result. For example, you can calculate the sum of two numbers using an addition (+) operator\n",
    "\n",
    "Python has seven types of operators that we can use to perform different operation and produce a result.\n",
    "\n",
    "Arithmetic operator\n",
    "Relational operators\n",
    "Assignment operators\n",
    "Logical operators\n",
    "Membership operators\n",
    "Identity operators\n",
    "Bitwise operators"
   ]
  },
  {
   "cell_type": "markdown",
   "id": "939f877d",
   "metadata": {},
   "source": [
    "# Arithmetic operator\n",
    "\n",
    "Arithmetic operators are the most commonly used. The Python programming language provides arithmetic operators that perform addition, subtraction, multiplication, and division. It works the same as basic mathematics.\n",
    "\n",
    "There are seven arithmetic operators we can use to perform different mathematical operations, such as:\n",
    "\n",
    "+ (Addition)\n",
    "- (Subtraction)\n",
    "* (Multiplication)\n",
    "/ (Division)\n",
    "// Floor division)\n",
    "℅ (Modulus)\n",
    "** (Exponentiation)"
   ]
  },
  {
   "cell_type": "code",
   "execution_count": null,
   "id": "8e0a2786",
   "metadata": {},
   "outputs": [],
   "source": [
    "x = 10\n",
    "y = 40\n",
    "print(x + y)\n",
    "\n",
    "x = 10\n",
    "y = 40\n",
    "print(y - x)\n",
    "\n",
    "x = 2\n",
    "y = 4\n",
    "z = 5\n",
    "print(x * y)\n",
    "# Output 8 (2*4)\n",
    "print(x * y * z)\n",
    "# Output 40 (2*4*5)\n",
    "\n",
    "name = \"Jessa\"\n",
    "print(name * 3)\n",
    "# Output JessaJessaJessa"
   ]
  },
  {
   "cell_type": "raw",
   "id": "4a3d6473",
   "metadata": {},
   "source": [
    "# Division /\n",
    "\n",
    "Divide the left operand (dividend) by the right one (divisor) and provide the result (quotient ) in a float value. The division operator is denoted by a / symbol.\n",
    "\n",
    "Note:\n",
    "\n",
    "The division operator performs floating-point arithmetic. Hence it always returns a float value.\n",
    "Don’t divide any number by zero. You will get a Zero Division Error: Division by zero"
   ]
  },
  {
   "cell_type": "code",
   "execution_count": null,
   "id": "d92bfa8d",
   "metadata": {},
   "outputs": [],
   "source": [
    " x = 2\n",
    "y = 4\n",
    "z = 8\n",
    "print(y / x)\n",
    "\n",
    "print(z / y / x)\n",
    "\n",
    "# print(z / 0)  # error"
   ]
  },
  {
   "cell_type": "raw",
   "id": "b7afb8c6",
   "metadata": {},
   "source": [
    "#Floor division //\n",
    "\n",
    "Floor division returns the quotient (the result of division) in which the digits after the decimal point are removed. In simple terms, It is used to divide one value by a second value and gives a quotient as a round figure value to the next smallest whole value.\n",
    "\n",
    "It works the same as a division operator, except it returns a possible integer. The // symbol denotes a floor division operator.\n",
    "\n",
    "Note:\n",
    "\n",
    "Floor division can perform both floating-point and integer arithmetic.\n",
    "If both operands are int type, then the result types. If at least one operand type, then the result is a float type.\n"
   ]
  },
  {
   "cell_type": "code",
   "execution_count": null,
   "id": "28e33995",
   "metadata": {},
   "outputs": [],
   "source": [
    "x = 2\n",
    "y = 4\n",
    "z = 2.2\n",
    "\n",
    "# normal division\n",
    "print(y / x)\n",
    "# Output 2.0\n",
    "\n",
    "# floor division to get result as integer\n",
    "print(y // x)\n",
    "# Output 2\n",
    "\n",
    "# normal division\n",
    "print(y / z)  # 1.81\n",
    "\n",
    "# floor division.\n",
    "# Result as float because one argument is float\n",
    "print(y // z)  # 1.0"
   ]
  },
  {
   "cell_type": "raw",
   "id": "c486c306",
   "metadata": {},
   "source": [
    "# Modulus ℅\n",
    "\n",
    "The remainder of the division of left operand by the right. The modulus operator is denoted by a % symbol. In simple terms, the Modulus operator divides one value by a second and gives the remainder as a result."
   ]
  },
  {
   "cell_type": "code",
   "execution_count": null,
   "id": "90310737",
   "metadata": {},
   "outputs": [],
   "source": [
    "x = 15\n",
    "y = 4\n",
    "\n",
    "print(x % y)\n",
    "# Output 3"
   ]
  },
  {
   "cell_type": "raw",
   "id": "35c42c8e",
   "metadata": {},
   "source": [
    "# Exponent **\n",
    "\n",
    "Using exponent operator left operand raised to the power of right. The exponentiation operator is denoted by a double asterisk ** symbol. You can use it as a shortcut to calculate the exponential value.\n",
    "\n",
    "For example, 2**3 Here 2 is multiplied by itself 3 times, i.e., 2*2*2. Here the 2 is the base, and 3 is an exponent."
   ]
  },
  {
   "cell_type": "markdown",
   "id": "176d6881",
   "metadata": {},
   "source": [
    "# Relational (comparison) operators\n",
    "\n",
    "Relational operators are also called comparison operators. It performs a comparison between two values. It returns a boolean  True or False depending upon the result of the comparison.\n",
    "\n",
    "Assume variable x holds 10 and variable y holds 5\n"
   ]
  },
  {
   "cell_type": "code",
   "execution_count": null,
   "id": "bb223040",
   "metadata": {},
   "outputs": [],
   "source": [
    "> (Greater than)\tIt returns True if the left operand is greater than the right\tx > y \n",
    "result is True\n",
    "\n",
    "< (Less than)\tIt returns True if the left operand is less than the right\tx < y \n",
    "result is False\n",
    "\n",
    "== (Equal to)\tIt returns True if both operands are equal\tx == y \n",
    "result is False\n",
    "\n",
    "!= (Not equal to)\tIt returns True if both operands are equal\tx != y \n",
    "result is True\n",
    "\n",
    ">= (Greater than or equal to)\tIt returns True if the left operand is greater than or equal to the right\tx >= y \n",
    "result is True\n",
    "\n",
    "<= (Less than or equal to)\tIt returns True if the left operand is less than or equal to the right\tx <= y \n",
    "result is False"
   ]
  },
  {
   "cell_type": "code",
   "execution_count": null,
   "id": "cca77c2b",
   "metadata": {},
   "outputs": [],
   "source": [
    "x = 10\n",
    "y = 5\n",
    "z = 2\n",
    "\n",
    "# > Greater than\n",
    "print(x > y)  # True\n",
    "print(x > y > z)  # True\n",
    "\n",
    "# < Less than\n",
    "print(x < y)  # False\n",
    "print(y < x)  # True\n",
    "\n",
    "# Equal to \n",
    "print(x == y)  # False \n",
    "print(x == 10)  # True \n",
    "\n",
    "# != Not Equal to \n",
    "print(x != y)  # True \n",
    "print(10 != x)  # False \n",
    "\n",
    "# >= Greater than equal to\n",
    "print(x >= y)  # True\n",
    "print(10 >= x)  # True\n",
    "\n",
    "# <= Less than equal to\n",
    "print(x <= y)  # False\n",
    "print(10 <= x)  # True"
   ]
  },
  {
   "cell_type": "markdown",
   "id": "4a6d115b",
   "metadata": {},
   "source": [
    "# Assignment operators \n",
    " Assignment operators are used to assigning value to the variable."
   ]
  },
  {
   "cell_type": "markdown",
   "id": "fc13e089",
   "metadata": {},
   "source": [
    "= (Assign)\t    a=5 Assign 5 to variable a\t        a = 5\n",
    "\n",
    "+= (Add and assign)\t a+=5Add 5 to a and assign it as a new value to a\t  a = a+5\n",
    "\n",
    "-=  (Subtract and assign)\ta-=5Subtract 5 from variable a and assign it as a new value to a\t    a = a-5\n",
    "\n",
    "*=  (Multiply and assign)\ta*=5Multiply variable a by 5 and assign it as a new value to a\t     a = a*5\n",
    "\n",
    "/= (Divide and assign)\t    a/=5Divide variable a by 5 and assign a new value to a\t            a = a/5\n",
    "\n",
    "%= (Modulus and assign)\t    a%=5Performs modulus on two values and assigns it as a new value to a\t  a = a%5\n",
    "\n",
    "**= (Exponentiation and assign)\ta**=5Multiply a five times and assigns the result to a\ta = a**5\n",
    "\n",
    "//= (Floor-divide and assign)\ta//=5Floor-divide a by 5 and assigns the result to a\ta = a//5"
   ]
  },
  {
   "cell_type": "code",
   "execution_count": 16,
   "id": "288528ff",
   "metadata": {},
   "outputs": [
    {
     "name": "stdout",
     "output_type": "stream",
     "text": [
      "6\n",
      "1\n",
      "10\n",
      "6.0\n",
      "2\n",
      "32\n",
      "3\n"
     ]
    }
   ],
   "source": [
    "a = 4\n",
    "b =2\n",
    "\n",
    "a +=2\n",
    "print(a)\n",
    "\n",
    "b -=1\n",
    "print(b)\n",
    "\n",
    "c = 5\n",
    "c*=2  # or c = c*2\n",
    "print(c)\n",
    "\n",
    "d = 12\n",
    "d/=2  # d//=2\n",
    "print(d)\n",
    "\n",
    "d = 20\n",
    "d%=6\n",
    "print(d)\n",
    "\n",
    "a = 2\n",
    "a**=5   # a = a**5\n",
    "print(a)\n",
    "\n",
    "\n",
    "a=10\n",
    "a//=3\n",
    "print(a)"
   ]
  },
  {
   "cell_type": "markdown",
   "id": "bdcbb412",
   "metadata": {},
   "source": [
    "# Logical operators\n",
    "Logical operators are useful when checking a condition is true or not. Python has three logical operators. All logical operator returns a boolean value True or False depending on the condition in which it is used."
   ]
  },
  {
   "cell_type": "code",
   "execution_count": null,
   "id": "6d2009d6",
   "metadata": {},
   "outputs": [],
   "source": [
    "and (Logical and)\tTrue if both the operands are True\ta and b\n",
    "\n",
    "or (Logical or) \tTrue if either of the operands is True\ta or b\n",
    "\n",
    "not (Logical not)\tTrue if the operand is False\t not a"
   ]
  },
  {
   "cell_type": "code",
   "execution_count": 22,
   "id": "b4446587",
   "metadata": {},
   "outputs": [
    {
     "name": "stdout",
     "output_type": "stream",
     "text": [
      "True\n",
      "False\n",
      "False\n",
      "False\n"
     ]
    }
   ],
   "source": [
    "print(True and True)\n",
    "\n",
    "print(True and False)\n",
    "\n",
    "print(False and False)\n",
    "\n",
    "print(False and True)"
   ]
  },
  {
   "cell_type": "code",
   "execution_count": 27,
   "id": "70b9a724",
   "metadata": {},
   "outputs": [
    {
     "name": "stdout",
     "output_type": "stream",
     "text": [
      "10\n"
     ]
    }
   ],
   "source": [
    "# actual use in code\n",
    "a = 2\n",
    "b = 5\n",
    "# Logical and\n",
    "if a > 0 and b > 0:\n",
    "    print(a*b)\n",
    "else:\n",
    "    print(\"Do Nothing\")"
   ]
  },
  {
   "cell_type": "raw",
   "id": "f40d4976",
   "metadata": {},
   "source": [
    "# In the case of arithmetic values, Logical and always returns the second value; as a result, see the following example."
   ]
  },
  {
   "cell_type": "code",
   "execution_count": 30,
   "id": "0c204863",
   "metadata": {},
   "outputs": [
    {
     "name": "stdout",
     "output_type": "stream",
     "text": [
      "20\n",
      "0\n",
      "300\n"
     ]
    }
   ],
   "source": [
    "print(10 and 20)\n",
    "print(20 and 0)\n",
    "print(1 and 300)"
   ]
  },
  {
   "cell_type": "code",
   "execution_count": null,
   "id": "bd13247a",
   "metadata": {},
   "outputs": [],
   "source": []
  },
  {
   "cell_type": "raw",
   "id": "06ec20ad",
   "metadata": {},
   "source": [
    "# or (Logical or)\n",
    "The logical or the operator returns a boolean  True if one expression is true, and it returns False if both values are false."
   ]
  },
  {
   "cell_type": "code",
   "execution_count": 35,
   "id": "b82d05e5",
   "metadata": {},
   "outputs": [
    {
     "name": "stdout",
     "output_type": "stream",
     "text": [
      "True\n",
      "True\n",
      "True\n",
      "False\n"
     ]
    }
   ],
   "source": [
    "print(True or False)\n",
    "\n",
    "print(True or True)\n",
    "\n",
    "print(False or True)\n",
    "\n",
    "print(False or False)"
   ]
  },
  {
   "cell_type": "code",
   "execution_count": 39,
   "id": "09166ca0",
   "metadata": {},
   "outputs": [
    {
     "name": "stdout",
     "output_type": "stream",
     "text": [
      "6\n"
     ]
    }
   ],
   "source": [
    "a = 2\n",
    "b = 4\n",
    "\n",
    "if a>0 or b<0:\n",
    "    print(a+b)\n",
    "else:\n",
    "    print(\"Do NOthing\")"
   ]
  },
  {
   "cell_type": "raw",
   "id": "063e7274",
   "metadata": {},
   "source": [
    "# In the case of arithmetic values, Logical or it always returns the first value; as a result, see the following code."
   ]
  },
  {
   "cell_type": "code",
   "execution_count": 41,
   "id": "05315872",
   "metadata": {},
   "outputs": [
    {
     "name": "stdout",
     "output_type": "stream",
     "text": [
      "10\n",
      "10\n"
     ]
    }
   ],
   "source": [
    "print(10 or 20 )\n",
    "print(10 or 5)"
   ]
  },
  {
   "cell_type": "markdown",
   "id": "b574638f",
   "metadata": {},
   "source": [
    "# not (Logical not)\n",
    "\n",
    "The logical not operator returns boolean True if the expression is false"
   ]
  },
  {
   "cell_type": "code",
   "execution_count": 44,
   "id": "9e7d9cfa",
   "metadata": {},
   "outputs": [
    {
     "name": "stdout",
     "output_type": "stream",
     "text": [
      "False\n",
      "True\n"
     ]
    }
   ],
   "source": [
    "print(not True)\n",
    "print(not False)"
   ]
  },
  {
   "cell_type": "code",
   "execution_count": 45,
   "id": "56064395",
   "metadata": {},
   "outputs": [
    {
     "name": "stdout",
     "output_type": "stream",
     "text": [
      "Nothing\n"
     ]
    }
   ],
   "source": [
    "a = True\n",
    "\n",
    "if not a:\n",
    "    print(a)\n",
    "else:\n",
    "    print(\"Nothing\")"
   ]
  },
  {
   "cell_type": "raw",
   "id": "da777bbf",
   "metadata": {},
   "source": [
    "# In the case of arithmetic values, Logical not always return False for nonzero value."
   ]
  },
  {
   "cell_type": "code",
   "execution_count": 46,
   "id": "12a27da1",
   "metadata": {},
   "outputs": [
    {
     "name": "stdout",
     "output_type": "stream",
     "text": [
      "False\n",
      "False\n",
      "False\n",
      "True\n"
     ]
    }
   ],
   "source": [
    "print(not 10) # False. Non-zero value\n",
    "print(not 1)  # True. Non-zero value\n",
    "print(not 5)  # False. Non-zero value\n",
    "print(not 0)  # True. zero value"
   ]
  },
  {
   "cell_type": "markdown",
   "id": "19d8c3b9",
   "metadata": {},
   "source": [
    "# Membership operators\n",
    "\n",
    "Python’s membership operators are used to check for membership of objects in sequence, such as string, list, tuple. It checks whether the given value or variable is present in a given sequence. If present, it will return True else False.\n",
    "\n",
    "In Python, there are two membership operator in and not in"
   ]
  },
  {
   "cell_type": "raw",
   "id": "c2fccdd2",
   "metadata": {},
   "source": [
    "#In operator\n",
    "It returns a result as True if it finds a given object in the sequence. Otherwise, it returns False.\n",
    "\n",
    "Let’s check if the number 15 present in a given list using the in operator."
   ]
  },
  {
   "cell_type": "code",
   "execution_count": 2,
   "id": "6184f5c8",
   "metadata": {},
   "outputs": [
    {
     "name": "stdout",
     "output_type": "stream",
     "text": [
      "Enter the number:66\n",
      "not in list\n"
     ]
    }
   ],
   "source": [
    "my_list = [10,20,22,30,25]\n",
    "num = int(input(\"Enter the number:\"))\n",
    "\n",
    "if num in my_list:\n",
    "    print(\"number is present\")\n",
    "else:\n",
    "    print(\"not in list\")"
   ]
  },
  {
   "cell_type": "raw",
   "id": "7f03fdfb",
   "metadata": {},
   "source": [
    "#Not in operator\n",
    "\n",
    "It returns True if the object is not present in a given sequence. Otherwise, it returns False"
   ]
  },
  {
   "cell_type": "code",
   "execution_count": 4,
   "id": "08bd22bd",
   "metadata": {},
   "outputs": [
    {
     "name": "stdout",
     "output_type": "stream",
     "text": [
      "Enter the number:55\n",
      "Present in tuple\n"
     ]
    }
   ],
   "source": [
    "my_tuple = (10,20,30,55,22)\n",
    "num = int(input(\"Enter the number:\"))\n",
    "\n",
    "if num not in my_tuple:\n",
    "    print(\"not present\")\n",
    "else:\n",
    "    print(\"Present in tuple\")"
   ]
  },
  {
   "cell_type": "markdown",
   "id": "42e06475",
   "metadata": {},
   "source": [
    "# Identity operators\n",
    "\n",
    "Use the Identity operator to check whether the value of two variables is the same or not. This operator is known as a reference-quality operator because the identity operator compares values according to two variables’ memory addresses.\n",
    "\n",
    "Python has 2 identity operators is and is not."
   ]
  },
  {
   "cell_type": "raw",
   "id": "8e3ef7ec",
   "metadata": {},
   "source": [
    "is operator\n",
    "\n",
    "The is operator returns Boolean True or False. It Return True if the memory address first value is equal to the second value. Otherwise, it returns False."
   ]
  },
  {
   "cell_type": "code",
   "execution_count": 8,
   "id": "5adc8317",
   "metadata": {
    "collapsed": true
   },
   "outputs": [
    {
     "name": "stdout",
     "output_type": "stream",
     "text": [
      "False\n",
      "True\n"
     ]
    },
    {
     "name": "stderr",
     "output_type": "stream",
     "text": [
      "<>:5: SyntaxWarning: \"is\" with a literal. Did you mean \"==\"?\n",
      "<>:5: SyntaxWarning: \"is\" with a literal. Did you mean \"==\"?\n",
      "C:\\Users\\iamyo\\AppData\\Local\\Temp\\ipykernel_15524\\1918371903.py:5: SyntaxWarning: \"is\" with a literal. Did you mean \"==\"?\n",
      "  print(10 is y)\n"
     ]
    }
   ],
   "source": [
    "x =10\n",
    "y=11\n",
    "z=10\n",
    "\n",
    "print(10 is y)\n",
    "print(x is z)\n",
    "\n",
    "#Here, we can use is() function to check whether both variables are pointing to the same object or not."
   ]
  },
  {
   "cell_type": "raw",
   "id": "d3a8a1fc",
   "metadata": {},
   "source": [
    "is not operator\n",
    "\n",
    "The is not the operator returns boolean values either True or False. It Return True if the first value is not equal to the second value. Otherwise, it returns False."
   ]
  },
  {
   "cell_type": "code",
   "execution_count": 9,
   "id": "f2b96a2d",
   "metadata": {},
   "outputs": [
    {
     "name": "stdout",
     "output_type": "stream",
     "text": [
      "True\n",
      "False\n"
     ]
    }
   ],
   "source": [
    "x = 10\n",
    "y = 11 \n",
    "z = 10\n",
    "print(x is not y) # it campare memory address of x and y \n",
    "print(x is not z) # it campare memory address of x and z"
   ]
  },
  {
   "cell_type": "markdown",
   "id": "18631ca9",
   "metadata": {},
   "source": [
    "# Bitwise Operators\n",
    "\n",
    "In Python, bitwise operators are used to performing bitwise operations on integers. To perform bitwise, we first need to convert integer value to binary (0 and 1) value.\n",
    "\n",
    "The bitwise operator operates on values bit by bit, so it’s called bitwise. It always returns the result in decimal format. Python has 6 bitwise operators listed below.\n",
    "\n",
    "& Bitwise and\n",
    "| Bitwise or\n",
    "^ Bitwise xor\n",
    "~ Bitwise 1’s complement\n",
    "<< Bitwise left-shift\n",
    ">> Bitwise right-shift"
   ]
  },
  {
   "cell_type": "raw",
   "id": "05e51fed",
   "metadata": {},
   "source": [
    "# Bitwise and &\n",
    "\n",
    "It performs logical AND operation on the integer value after converting an integer to a binary value and gives the result as a decimal value. It returns True only if both operands are True. Otherwise, it returns False."
   ]
  },
  {
   "cell_type": "code",
   "execution_count": 13,
   "id": "9a10730e",
   "metadata": {},
   "outputs": [
    {
     "name": "stdout",
     "output_type": "stream",
     "text": [
      "4\n",
      "5\n"
     ]
    }
   ],
   "source": [
    "a = 7 \n",
    "b = 4\n",
    "c = 5\n",
    "\n",
    "print(a & b)\n",
    "\n",
    "print(a & c)"
   ]
  },
  {
   "cell_type": "raw",
   "id": "c84be55d",
   "metadata": {},
   "source": [
    "# Bitwise or |\n",
    "\n",
    "It performs logical OR operation on the integer value after converting integer value to binary value and gives the result a decimal value. It returns False only if both operands are False. Otherwise, it returns True."
   ]
  },
  {
   "cell_type": "code",
   "execution_count": 14,
   "id": "942b4614",
   "metadata": {},
   "outputs": [
    {
     "name": "stdout",
     "output_type": "stream",
     "text": [
      "7\n",
      "7\n",
      "5\n"
     ]
    }
   ],
   "source": [
    "a = 7\n",
    "b = 4\n",
    "c = 5\n",
    "print(a | b)\n",
    "print(a | c)\n",
    "print(b | c)"
   ]
  },
  {
   "cell_type": "raw",
   "id": "e0f095ad",
   "metadata": {},
   "source": [
    "# Bitwise xor ^\n",
    "\n",
    "It performs Logical XOR ^ operation on the binary value of a integer and gives the result as a decimal value."
   ]
  },
  {
   "cell_type": "code",
   "execution_count": 15,
   "id": "914a86e9",
   "metadata": {},
   "outputs": [
    {
     "name": "stdout",
     "output_type": "stream",
     "text": [
      "3\n"
     ]
    }
   ],
   "source": [
    "a = 7 \n",
    "b = 4\n",
    "c = 5\n",
    "\n",
    "print(a^b)"
   ]
  },
  {
   "cell_type": "raw",
   "id": "db43cc5f",
   "metadata": {},
   "source": [
    "# Bitwise 1’s complement ~\n",
    "\n",
    "It performs 1’s complement operation. It invert each bit of binary value and returns the bitwise negation of a value as a result."
   ]
  },
  {
   "cell_type": "code",
   "execution_count": 16,
   "id": "87e06cff",
   "metadata": {},
   "outputs": [
    {
     "name": "stdout",
     "output_type": "stream",
     "text": [
      "-8\n"
     ]
    }
   ],
   "source": [
    "a = 7\n",
    "b = 4\n",
    "c = 3\n",
    "\n",
    "print(~a)"
   ]
  },
  {
   "cell_type": "raw",
   "id": "e802f00b",
   "metadata": {},
   "source": [
    "# Bitwise left-shift <<\n",
    "\n",
    "The left-shift << operator performs a shifting bit of value by a given number of the place and fills 0’s to new positions."
   ]
  },
  {
   "cell_type": "code",
   "execution_count": 17,
   "id": "47223758",
   "metadata": {},
   "outputs": [
    {
     "name": "stdout",
     "output_type": "stream",
     "text": [
      "16\n",
      "40\n"
     ]
    }
   ],
   "source": [
    "print(4 << 2)\n",
    "\n",
    "print(5 << 3)"
   ]
  },
  {
   "cell_type": "raw",
   "id": "754b163a",
   "metadata": {},
   "source": [
    "# Bitwise right-shift >>\n",
    "\n",
    "The left-shift >> operator performs shifting a bit of value to the right by a given number of places. Here some bits are lost."
   ]
  },
  {
   "cell_type": "code",
   "execution_count": 21,
   "id": "f194d02d",
   "metadata": {},
   "outputs": [
    {
     "name": "stdout",
     "output_type": "stream",
     "text": [
      "1\n",
      "0\n",
      "1\n"
     ]
    }
   ],
   "source": [
    "print(4 >> 2)\n",
    "\n",
    "print(5 >> 3)\n",
    " \n",
    "print(5 >> 2)\n",
    " "
   ]
  },
  {
   "cell_type": "markdown",
   "id": "afd5d46a",
   "metadata": {},
   "source": [
    "# Python Operators Precedence\n",
    "\n",
    "In Python, operator precedence and associativity play an essential role in solving the expression. An expression is the combination of variables and operators that evaluate based on operator precedence.\n",
    "\n",
    "We must know what the precedence (priority) of that operator is and how they will evaluate down to a single value. Operator precedence is used in an expression to determine which operation to perform first."
   ]
  },
  {
   "cell_type": "code",
   "execution_count": 22,
   "id": "9c14710e",
   "metadata": {},
   "outputs": [
    {
     "name": "stdout",
     "output_type": "stream",
     "text": [
      "24\n"
     ]
    }
   ],
   "source": [
    "print((10 - 4) * 2 +(10+2))"
   ]
  },
  {
   "cell_type": "raw",
   "id": "20d8e7e0",
   "metadata": {},
   "source": [
    "1st precedence goes to a parenthesis(), then for plus and minus operators. The expression will be executed as.\n",
    "\n",
    "(10 - 4) * 2 +(10+2) \n",
    "6 * 2 + 12 \n",
    "12 + 12"
   ]
  },
  {
   "cell_type": "markdown",
   "id": "0a389fbb",
   "metadata": {},
   "source": [
    "##  The following tables shows operator precedence highest to lowest.\n"
   ]
  },
  {
   "cell_type": "code",
   "execution_count": null,
   "id": "0dfa740f",
   "metadata": {},
   "outputs": [],
   "source": [
    "1 \t(Highest)\t()\tParenthesis\n",
    "2\t**\tExponent\n",
    "3\t+x, -x ,~x\tUnary plus, Unary Minus, Bitwise negation\n",
    "4\t*, /, //, %\tMultiplication, Division, Floor division, Modulus\n",
    "5\t+, -\tAddition, Subtraction\n",
    "6\t<<, >>\tBitwise shift operator\n",
    "7\t&\tBitwise AND\n",
    "8\t^\tBitwise XOR\n",
    "9\t|\tBitwise OR\n",
    "10\t==, !=, >, >=, <, <=\tComparison\n",
    "11\tis, is not, in, not in\tIdentity, Membership\n",
    "12\tnot\tLogical NOT\n",
    "13\tand\tLogical AND\n",
    "14 (Lowest)\tor\tLogical OR"
   ]
  }
 ],
 "metadata": {
  "kernelspec": {
   "display_name": "Python 3 (ipykernel)",
   "language": "python",
   "name": "python3"
  },
  "language_info": {
   "codemirror_mode": {
    "name": "ipython",
    "version": 3
   },
   "file_extension": ".py",
   "mimetype": "text/x-python",
   "name": "python",
   "nbconvert_exporter": "python",
   "pygments_lexer": "ipython3",
   "version": "3.11.5"
  }
 },
 "nbformat": 4,
 "nbformat_minor": 5
}
